{
 "cells": [
  {
   "cell_type": "code",
   "execution_count": 3,
   "metadata": {},
   "outputs": [
    {
     "data": {
      "text/plain": [
       "(0    apple\n",
       " 1      bed\n",
       " 2      cat\n",
       " 1      bed\n",
       " 3    angel\n",
       " 5      pen\n",
       " dtype: object,\n",
       " 0    apple\n",
       " 1      bed\n",
       " 2      cat\n",
       " 3    angel\n",
       " 5      pen\n",
       " dtype: object,\n",
       " 0    apple\n",
       " 1      bed\n",
       " 2      cat\n",
       " 4    angel\n",
       " 5      pen\n",
       " dtype: object,\n",
       " 0    apple\n",
       " 1      bed\n",
       " 2      cat\n",
       " 3    angel\n",
       " 5      pen\n",
       " dtype: object)"
      ]
     },
     "execution_count": 3,
     "metadata": {},
     "output_type": "execute_result"
    }
   ],
   "source": [
    "import pandas as pd\n",
    "\n",
    "p1 = pd.Series([\"apple\", \"bed\", \"cat\"], index=[0, 1, 2])\n",
    "p2 = pd.Series([\"bed\", \"angel\", \"pen\"], index=[1, 3, 5])\n",
    "\n",
    "# drop_duplicates() 刪除重複\n",
    "# ignore_index=True 是否忽略給定的 index\n",
    "res0 = pd.concat([p1, p2])\n",
    "res1 = pd.concat([p1, p2]).drop_duplicates()\n",
    "res2 = pd.concat([p1, p2], ignore_index=True).drop_duplicates()\n",
    "res3 = pd.concat([p1, p2], ignore_index=False).drop_duplicates()\n",
    "res0, res1, res2, res3"
   ]
  }
 ],
 "metadata": {
  "kernelspec": {
   "display_name": "envDash",
   "language": "python",
   "name": "python3"
  },
  "language_info": {
   "codemirror_mode": {
    "name": "ipython",
    "version": 3
   },
   "file_extension": ".py",
   "mimetype": "text/x-python",
   "name": "python",
   "nbconvert_exporter": "python",
   "pygments_lexer": "ipython3",
   "version": "3.10.11"
  }
 },
 "nbformat": 4,
 "nbformat_minor": 2
}
