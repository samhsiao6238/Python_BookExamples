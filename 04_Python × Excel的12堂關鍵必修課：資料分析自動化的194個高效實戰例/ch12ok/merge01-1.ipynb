{
 "cells": [
  {
   "cell_type": "code",
   "execution_count": 1,
   "metadata": {},
   "outputs": [
    {
     "name": "stdout",
     "output_type": "stream",
     "text": [
      "     id    姓名      必修\n",
      "0  A001  吳燦銘      數學\n",
      "1  A002  鄭苑鳳  程式語言\n",
      "2  A003  許伯如  網路行銷\n",
      "3  A004  胡建文  企業導論\n",
      "========================================\n",
      "     id 選修一    選修二\n",
      "0  A001   音樂      日語\n",
      "1  A002   日語  遊戲企劃\n",
      "2  A003   泰語      經濟\n",
      "3  A004   網球      越語\n",
      "========================================\n",
      "     id    姓名      必修 選修一    選修二\n",
      "0  A001  吳燦銘      數學   音樂      日語\n",
      "1  A002  鄭苑鳳  程式語言   日語  遊戲企劃\n",
      "2  A003  許伯如  網路行銷   泰語      經濟\n",
      "3  A004  胡建文  企業導論   網球      越語\n"
     ]
    }
   ],
   "source": [
    "import pandas as pd\n",
    "\n",
    "# pd 的各種設置\n",
    "pd.set_option(\"display.unicode.ambiguous_as_wide\", True)\n",
    "pd.set_option(\"display.unicode.east_asian_width\", True)\n",
    "pd.set_option(\"display.width\", 180)  # 設置寬度\n",
    "\n",
    "left = pd.DataFrame(\n",
    "    {\n",
    "        \"id\": [\"A001\", \"A002\", \"A003\", \"A004\"],\n",
    "        \"姓名\": [\"吳燦銘\", \"鄭苑鳳\", \"許伯如\", \"胡建文\"],\n",
    "        \"必修\": [\"數學\", \"程式語言\", \"網路行銷\", \"企業導論\"],\n",
    "    }\n",
    ")\n",
    "right = pd.DataFrame(\n",
    "    {\n",
    "        \"id\": [\"A001\", \"A002\", \"A003\", \"A004\"],\n",
    "        \"選修一\": [\"音樂\", \"日語\", \"泰語\", \"網球\"],\n",
    "        \"選修二\": [\"日語\", \"遊戲企劃\", \"經濟\", \"越語\"],\n",
    "    }\n",
    ")\n",
    "rs = pd.merge(left, right, on=\"id\")\n",
    "print(left)\n",
    "print(\"=\" * 40)\n",
    "print(right)\n",
    "print(\"=\" * 40)\n",
    "print(rs)\n"
   ]
  }
 ],
 "metadata": {
  "kernelspec": {
   "display_name": "envDash",
   "language": "python",
   "name": "python3"
  },
  "language_info": {
   "codemirror_mode": {
    "name": "ipython",
    "version": 3
   },
   "file_extension": ".py",
   "mimetype": "text/x-python",
   "name": "python",
   "nbconvert_exporter": "python",
   "pygments_lexer": "ipython3",
   "version": "3.10.11"
  }
 },
 "nbformat": 4,
 "nbformat_minor": 2
}
