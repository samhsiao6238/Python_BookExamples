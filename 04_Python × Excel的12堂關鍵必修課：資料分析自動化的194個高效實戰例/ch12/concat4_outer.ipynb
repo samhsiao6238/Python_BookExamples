{
 "cells": [
  {
   "cell_type": "markdown",
   "metadata": {},
   "source": [
    "使用join=\"outer\" 時，pd.concat 函數會保留在任一DataFrame 中出現的所有列，如果某列在某個DataFrame 中不存在，則在結果中該列的對應位置會被填入NaN（表示 缺失值）。 這種方式確保了所有原始資料列的保留，即便它們並不在所有 DataFrame 中都存在。\n",
    "\n",
    "如果將 join 參數改為 \"inner\"，則 pd.concat 函數會只保留那些在所有待合併 DataFrame 中共同存在的列，其他不共有的列將被丟棄。"
   ]
  },
  {
   "cell_type": "code",
   "execution_count": 3,
   "metadata": {},
   "outputs": [
    {
     "name": "stdout",
     "output_type": "stream",
     "text": [
      "     學生  學號  初級  中級\n",
      "0  許富強  A001  58.0  60.0\n",
      "1  邱瑞祥  A002  62.0  52.0\n",
      "2  朱正富  A003   NaN  83.0\n",
      "3  陳貴玉  A004  87.0   NaN\n",
      "4  莊自強  A005  46.0  95.0\n",
      "========================================\n",
      "     學生  學號  初級  中級\n",
      "0  陳大慶  A006  95.0  64.0\n",
      "1  莊照如  A007  78.0   NaN\n",
      "2  吳建文  A008  87.0  85.0\n",
      "3  鍾英誠  A009  69.0  64.0\n",
      "4  賴唯中  A010   NaN  54.0\n",
      "========================================\n",
      "     學生  學號  初級  中級\n",
      "0  許富強  A001  58.0  60.0\n",
      "1  邱瑞祥  A002  62.0  52.0\n",
      "2  朱正富  A003   NaN  83.0\n",
      "3  陳貴玉  A004  87.0   NaN\n",
      "4  莊自強  A005  46.0  95.0\n",
      "0  陳大慶  A006  95.0  64.0\n",
      "1  莊照如  A007  78.0   NaN\n",
      "2  吳建文  A008  87.0  85.0\n",
      "3  鍾英誠  A009  69.0  64.0\n",
      "4  賴唯中  A010   NaN  54.0\n"
     ]
    }
   ],
   "source": [
    "import pandas as pd\n",
    "\n",
    "df1 = pd.read_excel(\"score1.xlsx\")\n",
    "df2 = pd.read_excel(\"score2.xlsx\")\n",
    "\n",
    "pd.set_option(\"display.unicode.ambiguous_as_wide\", True)\n",
    "pd.set_option(\"display.unicode.east_asian_width\", True)\n",
    "pd.set_option(\"display.width\", 180)  # 設置寬度\n",
    "\n",
    "print(df1)\n",
    "print(\"=\" * 40)\n",
    "print(df2)\n",
    "print(\"=\" * 40)\n",
    "\n",
    "# 合併\n",
    "rs = pd.concat(\n",
    "    [df1, df2],\n",
    "    join=\"outer\"\n",
    ")\n",
    "print(rs)\n"
   ]
  }
 ],
 "metadata": {
  "kernelspec": {
   "display_name": "envDash",
   "language": "python",
   "name": "python3"
  },
  "language_info": {
   "codemirror_mode": {
    "name": "ipython",
    "version": 3
   },
   "file_extension": ".py",
   "mimetype": "text/x-python",
   "name": "python",
   "nbconvert_exporter": "python",
   "pygments_lexer": "ipython3",
   "version": "3.10.11"
  }
 },
 "nbformat": 4,
 "nbformat_minor": 2
}
