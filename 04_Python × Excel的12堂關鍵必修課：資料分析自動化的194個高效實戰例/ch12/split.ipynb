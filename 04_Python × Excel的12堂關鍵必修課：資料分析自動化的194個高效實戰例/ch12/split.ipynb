{
 "cells": [
  {
   "cell_type": "markdown",
   "metadata": {},
   "source": [
    "讀取 excel，透過編程將內容寫入不同表單中"
   ]
  },
  {
   "cell_type": "code",
   "execution_count": 9,
   "metadata": {},
   "outputs": [
    {
     "name": "stdout",
     "output_type": "stream",
     "text": [
      "   員工編號   姓名    語言類   資訊類   圖書類  業外收入\n",
      "0  A001  陳大慶   5000  6500  5840  5400\n",
      "1  A002  許忠仁   9600  5000  9800  5800\n",
      "2  A003  胡建文   4580  4000  6500  5600\n",
      "3  A004  鍾銘誠   5800  3890  7700  6400\n",
      "4  A005  陳又利  90000  6504  8800  6850\n",
      "5  A006  朱一平  12000  5550  6200  7700\n",
      "========================================\n",
      "   員工編號   姓名    語言類\n",
      "0  A001  陳大慶   5000\n",
      "1  A002  許忠仁   9600\n",
      "2  A003  胡建文   4580\n",
      "3  A004  鍾銘誠   5800\n",
      "4  A005  陳又利  90000\n",
      "5  A006  朱一平  12000\n",
      "========================================\n",
      "   員工編號   姓名   資訊類\n",
      "0  A001  陳大慶  6500\n",
      "1  A002  許忠仁  5000\n",
      "2  A003  胡建文  4000\n",
      "3  A004  鍾銘誠  3890\n",
      "4  A005  陳又利  6504\n",
      "5  A006  朱一平  5550\n",
      "========================================\n",
      "   員工編號   姓名   圖書類\n",
      "0  A001  陳大慶  5840\n",
      "1  A002  許忠仁  9800\n",
      "2  A003  胡建文  6500\n",
      "3  A004  鍾銘誠  7700\n",
      "4  A005  陳又利  8800\n",
      "5  A006  朱一平  6200\n",
      "========================================\n",
      "   員工編號   姓名  業外收入\n",
      "0  A001  陳大慶  5400\n",
      "1  A002  許忠仁  5800\n",
      "2  A003  胡建文  5600\n",
      "3  A004  鍾銘誠  6400\n",
      "4  A005  陳又利  6850\n",
      "5  A006  朱一平  7700\n"
     ]
    }
   ],
   "source": [
    "import pandas as pd\n",
    "\n",
    "data = pd.read_excel(\"sales.xlsx\", sheet_name=\"全部人員\")\n",
    "print(data)\n",
    "title = list(data.columns)\n",
    "reserve_title = data[[\"員工編號\", \"姓名\"]]\n",
    "with pd.ExcelWriter(\"sales1.xlsx\") as workbook:\n",
    "    for i in title[2:]:\n",
    "        each_title = data[i]\n",
    "        sheet_data = pd.concat([reserve_title, each_title], axis=1)\n",
    "        sheet_data.to_excel(workbook, sheet_name=i, index=False)\n",
    "        #\n",
    "        print(\"=\" * 40) \n",
    "        print(sheet_data)"
   ]
  }
 ],
 "metadata": {
  "kernelspec": {
   "display_name": "envDash",
   "language": "python",
   "name": "python3"
  },
  "language_info": {
   "codemirror_mode": {
    "name": "ipython",
    "version": 3
   },
   "file_extension": ".py",
   "mimetype": "text/x-python",
   "name": "python",
   "nbconvert_exporter": "python",
   "pygments_lexer": "ipython3",
   "version": "3.10.11"
  }
 },
 "nbformat": 4,
 "nbformat_minor": 2
}
