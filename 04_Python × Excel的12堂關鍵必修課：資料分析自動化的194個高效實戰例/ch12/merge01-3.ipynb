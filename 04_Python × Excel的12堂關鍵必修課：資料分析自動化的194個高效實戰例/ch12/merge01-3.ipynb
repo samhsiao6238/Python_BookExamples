{
 "cells": [
  {
   "cell_type": "code",
   "execution_count": 1,
   "metadata": {},
   "outputs": [
    {
     "name": "stdout",
     "output_type": "stream",
     "text": [
      "     id    姓名      必修\n",
      "0  A001  吳燦銘      數學\n",
      "1  A002  鄭苑鳳  程式語言\n",
      "2  A003  許伯如  網路行銷\n",
      "3  A004  胡建文  企業導論\n",
      "4  A002  鄭苑鳳  影像繪圖\n",
      "5  A003  許伯如  公共關係\n",
      "========================================\n",
      "     id  選修\n",
      "0  A001  音樂\n",
      "1  A002  日語\n",
      "2  A003  泰語\n",
      "3  A002  網球\n",
      "4  A003  日語\n",
      "5  A004  泰語\n",
      "========================================\n",
      "     id    姓名      必修  選修\n",
      "0  A001  吳燦銘      數學  音樂\n",
      "1  A002  鄭苑鳳  程式語言  日語\n",
      "2  A002  鄭苑鳳  程式語言  網球\n",
      "3  A002  鄭苑鳳  影像繪圖  日語\n",
      "4  A002  鄭苑鳳  影像繪圖  網球\n",
      "5  A003  許伯如  網路行銷  泰語\n",
      "6  A003  許伯如  網路行銷  日語\n",
      "7  A003  許伯如  公共關係  泰語\n",
      "8  A003  許伯如  公共關係  日語\n",
      "9  A004  胡建文  企業導論  泰語\n"
     ]
    }
   ],
   "source": [
    "import pandas as pd\n",
    "\n",
    "pd.set_option(\"display.unicode.ambiguous_as_wide\", True)\n",
    "pd.set_option(\"display.unicode.east_asian_width\", True)\n",
    "pd.set_option(\"display.width\", 180)  # 設置寬度\n",
    "\n",
    "left = pd.DataFrame(\n",
    "    {\n",
    "        \"id\": [\"A001\", \"A002\", \"A003\", \"A004\", \"A002\", \"A003\"],\n",
    "        \"姓名\": [\"吳燦銘\", \"鄭苑鳳\", \"許伯如\", \"胡建文\", \"鄭苑鳳\", \"許伯如\"],\n",
    "        \"必修\": [\"數學\", \"程式語言\", \"網路行銷\", \"企業導論\", \"影像繪圖\", \"公共關係\"],\n",
    "    }\n",
    ")\n",
    "right = pd.DataFrame(\n",
    "    {\n",
    "        \"id\": [\"A001\", \"A002\", \"A003\", \"A002\", \"A003\", \"A004\"],\n",
    "        \"選修\": [\"音樂\", \"日語\", \"泰語\", \"網球\", \"日語\", \"泰語\"],\n",
    "    }\n",
    ")\n",
    "rs = pd.merge(left, right, on=\"id\")\n",
    "print(left)\n",
    "print(\"=\" * 40)\n",
    "print(right)\n",
    "print(\"=\" * 40)\n",
    "print(rs)\n"
   ]
  }
 ],
 "metadata": {
  "kernelspec": {
   "display_name": "envDash",
   "language": "python",
   "name": "python3"
  },
  "language_info": {
   "codemirror_mode": {
    "name": "ipython",
    "version": 3
   },
   "file_extension": ".py",
   "mimetype": "text/x-python",
   "name": "python",
   "nbconvert_exporter": "python",
   "pygments_lexer": "ipython3",
   "version": "3.10.11"
  }
 },
 "nbformat": 4,
 "nbformat_minor": 2
}
