{
 "cells": [
  {
   "cell_type": "code",
   "execution_count": 1,
   "metadata": {},
   "outputs": [
    {
     "name": "stdout",
     "output_type": "stream",
     "text": [
      "   學號    姓名      必修\n",
      "0  A001  吳燦銘      數學\n",
      "1  A002  鄭苑鳳  程式語言\n",
      "2  A003  許伯如  網路行銷\n",
      "3  A004  胡建文  企業導論\n",
      "========================================\n",
      "   學號    姓名      選修\n",
      "0  A001  吳燦銘      日語\n",
      "1  A002  鄭苑鳳  遊戲企劃\n",
      "2  A005  許伯如      經濟\n",
      "3  A006  胡建文      越語\n",
      "========================================\n",
      "   學號  姓名_x      必修  姓名_y      選修\n",
      "0  A001  吳燦銘      數學  吳燦銘      日語\n",
      "1  A002  鄭苑鳳  程式語言  鄭苑鳳  遊戲企劃\n",
      "========================================\n",
      "   學號 姓名_左邊      必修 姓名_右邊      選修\n",
      "0  A001    吳燦銘      數學    吳燦銘      日語\n",
      "1  A002    鄭苑鳳  程式語言    鄭苑鳳  遊戲企劃\n"
     ]
    }
   ],
   "source": [
    "import pandas as pd\n",
    "\n",
    "pd.set_option(\"display.unicode.ambiguous_as_wide\", True)\n",
    "pd.set_option(\"display.unicode.east_asian_width\", True)\n",
    "pd.set_option(\"display.width\", 180)  # 設置寬度\n",
    "\n",
    "left = pd.DataFrame(\n",
    "    {\n",
    "        \"學號\": [\"A001\", \"A002\", \"A003\", \"A004\"],\n",
    "        \"姓名\": [\"吳燦銘\", \"鄭苑鳳\", \"許伯如\", \"胡建文\"],\n",
    "        \"必修\": [\"數學\", \"程式語言\", \"網路行銷\", \"企業導論\"],\n",
    "    }\n",
    ")\n",
    "print(left)\n",
    "print(\"=\" * 40)\n",
    "right = pd.DataFrame(\n",
    "    {\n",
    "        \"學號\": [\"A001\", \"A002\", \"A005\", \"A006\"],\n",
    "        \"姓名\": [\"吳燦銘\", \"鄭苑鳳\", \"許伯如\", \"胡建文\"],\n",
    "        \"選修\": [\"日語\", \"遊戲企劃\", \"經濟\", \"越語\"],\n",
    "    }\n",
    ")\n",
    "print(right)\n",
    "print(\"=\" * 40)\n",
    "\n",
    "'''合併\n",
    "因為資料中除了鍵值「學號」以外，還有另一個同名欄位「姓名」\n",
    "Pandas 無法自動決定合併後要保留哪個「姓名」\n",
    "所以會對「姓名」欄位加上尾綴，在沒有指定的情況下，會使用 _x、_y\n",
    "'''\n",
    "rs = pd.merge(\n",
    "    left, right,\n",
    "    on=\"學號\",\n",
    "    how=\"inner\"\n",
    ")\n",
    "print(rs)\n",
    "print(\"=\" * 40)\n",
    "\n",
    "'''合併'''\n",
    "rs = pd.merge(\n",
    "    left, right,\n",
    "    on=\"學號\",\n",
    "    how=\"inner\",\n",
    "    # 添加尾綴\n",
    "    suffixes=[\"_左邊\", \"_右邊\"]\n",
    ")\n",
    "print(rs)\n"
   ]
  }
 ],
 "metadata": {
  "kernelspec": {
   "display_name": "envDash",
   "language": "python",
   "name": "python3"
  },
  "language_info": {
   "codemirror_mode": {
    "name": "ipython",
    "version": 3
   },
   "file_extension": ".py",
   "mimetype": "text/x-python",
   "name": "python",
   "nbconvert_exporter": "python",
   "pygments_lexer": "ipython3",
   "version": "3.10.11"
  }
 },
 "nbformat": 4,
 "nbformat_minor": 2
}
