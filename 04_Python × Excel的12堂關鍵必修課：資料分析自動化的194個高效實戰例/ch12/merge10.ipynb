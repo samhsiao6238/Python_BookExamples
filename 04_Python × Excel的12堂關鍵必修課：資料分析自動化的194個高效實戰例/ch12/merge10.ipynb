{
 "cells": [
  {
   "cell_type": "markdown",
   "metadata": {},
   "source": [
    "使用預設索引\n",
    "\n",
    "left_index、right_index"
   ]
  },
  {
   "cell_type": "code",
   "execution_count": 9,
   "metadata": {},
   "outputs": [
    {
     "name": "stdout",
     "output_type": "stream",
     "text": [
      "   學號    姓名      必修\n",
      "0  A001  吳燦銘      數學\n",
      "1  A002  鄭苑鳳  程式語言\n",
      "2  A003  許伯如  網路行銷\n",
      "3  A004  胡建文  企業導論\n",
      "========================================\n",
      "   學號      選修\n",
      "0  A001      日語\n",
      "1  A002  遊戲企劃\n",
      "2  A005      經濟\n",
      "3  A006      越語\n",
      "========================================\n",
      "  學號_x    姓名      必修 學號_y      選修\n",
      "0   A001  吳燦銘      數學   A001      日語\n",
      "1   A002  鄭苑鳳  程式語言   A002  遊戲企劃\n",
      "2   A003  許伯如  網路行銷   A005      經濟\n",
      "3   A004  胡建文  企業導論   A006      越語\n"
     ]
    }
   ],
   "source": [
    "import pandas as pd\n",
    "\n",
    "pd.set_option(\"display.unicode.ambiguous_as_wide\", True)\n",
    "pd.set_option(\"display.unicode.east_asian_width\", True)\n",
    "pd.set_option(\"display.width\", 180)  # 設置寬度\n",
    "\n",
    "data_left = pd.DataFrame(\n",
    "    {\n",
    "        \"學號\": [\"A001\", \"A002\", \"A003\", \"A004\"],\n",
    "        \"姓名\": [\"吳燦銘\", \"鄭苑鳳\", \"許伯如\", \"胡建文\"],\n",
    "        \"必修\": [\"數學\", \"程式語言\", \"網路行銷\", \"企業導論\"],\n",
    "    }\n",
    ")\n",
    "print(data_left)\n",
    "print(\"=\" * 40)\n",
    "data_right = pd.DataFrame(\n",
    "    {\n",
    "        \"學號\": [\"A001\", \"A002\", \"A005\", \"A006\"],\n",
    "        \"選修\": [\"日語\", \"遊戲企劃\", \"經濟\", \"越語\"],\n",
    "    }\n",
    ")\n",
    "print(data_right)\n",
    "print(\"=\" * 40)\n",
    "\n",
    "'''合併\n",
    "分別使用預設索引\n",
    "'''\n",
    "rs = pd.merge(\n",
    "    data_left, data_right,\n",
    "    left_index=True,\n",
    "    right_index=True\n",
    ")\n",
    "print(rs)\n"
   ]
  }
 ],
 "metadata": {
  "kernelspec": {
   "display_name": "envDash",
   "language": "python",
   "name": "python3"
  },
  "language_info": {
   "codemirror_mode": {
    "name": "ipython",
    "version": 3
   },
   "file_extension": ".py",
   "mimetype": "text/x-python",
   "name": "python",
   "nbconvert_exporter": "python",
   "pygments_lexer": "ipython3",
   "version": "3.10.11"
  }
 },
 "nbformat": 4,
 "nbformat_minor": 2
}
