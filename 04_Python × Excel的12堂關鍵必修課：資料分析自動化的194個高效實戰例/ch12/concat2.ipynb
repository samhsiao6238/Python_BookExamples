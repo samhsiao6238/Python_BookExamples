{
 "cells": [
  {
   "cell_type": "code",
   "execution_count": 3,
   "metadata": {},
   "outputs": [
    {
     "name": "stdout",
     "output_type": "stream",
     "text": [
      "     學生  學號  初級  中級\n",
      "0  許富強  A001  58.0  60.0\n",
      "1  邱瑞祥  A002  62.0  52.0\n",
      "2  朱正富  A003   NaN  83.0\n",
      "3  陳貴玉  A004  87.0   NaN\n",
      "4  莊自強  A005  46.0  95.0\n",
      "========================================\n",
      "     學生  學號  初級  中級\n",
      "0  陳大慶  A006  95.0  64.0\n",
      "1  莊照如  A007  78.0   NaN\n",
      "2  吳建文  A008  87.0  85.0\n",
      "3  鍾英誠  A009  69.0  64.0\n",
      "4  賴唯中  A010   NaN  54.0\n",
      "========================================\n",
      "      學生  學號  初級  中級\n",
      "0   許富強  A001  58.0  60.0\n",
      "1   邱瑞祥  A002  62.0  52.0\n",
      "2   朱正富  A003   NaN  83.0\n",
      "3   陳貴玉  A004  87.0   NaN\n",
      "4   莊自強  A005  46.0  95.0\n",
      "5   陳大慶  A006  95.0  64.0\n",
      "6   莊照如  A007  78.0   NaN\n",
      "7   吳建文  A008  87.0  85.0\n",
      "8   鍾英誠  A009  69.0  64.0\n",
      "9   賴唯中  A010   NaN  54.0\n",
      "10  吳文建  A010  88.0  83.0\n",
      "11  鄭麗娟  A011  98.0  96.0\n"
     ]
    }
   ],
   "source": [
    "import pandas as pd\n",
    "\n",
    "df1 = pd.read_excel(\"score1.xlsx\")\n",
    "df2 = pd.read_excel(\"score2.xlsx\")\n",
    "df3 = pd.read_excel(\"score3.xlsx\")\n",
    "pd.set_option(\"display.unicode.ambiguous_as_wide\", True)\n",
    "pd.set_option(\"display.unicode.east_asian_width\", True)\n",
    "pd.set_option(\"display.width\", 180)  # 設置寬度\n",
    "\n",
    "print(df1)\n",
    "print(\"=\" * 40)\n",
    "print(df2)\n",
    "print(\"=\" * 40)\n",
    "res = pd.concat([df1, df2, df3], ignore_index=True)\n",
    "print(res)\n"
   ]
  }
 ],
 "metadata": {
  "kernelspec": {
   "display_name": "envDash",
   "language": "python",
   "name": "python3"
  },
  "language_info": {
   "codemirror_mode": {
    "name": "ipython",
    "version": 3
   },
   "file_extension": ".py",
   "mimetype": "text/x-python",
   "name": "python",
   "nbconvert_exporter": "python",
   "pygments_lexer": "ipython3",
   "version": "3.10.11"
  }
 },
 "nbformat": 4,
 "nbformat_minor": 2
}
