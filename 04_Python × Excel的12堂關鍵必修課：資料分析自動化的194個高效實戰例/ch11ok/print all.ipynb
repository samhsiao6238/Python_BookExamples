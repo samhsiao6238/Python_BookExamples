{
 "cells": [
  {
   "cell_type": "markdown",
   "metadata": {},
   "source": [
    "xlwings 函式庫允許 Python 與 Microsoft Excel 進行互動"
   ]
  },
  {
   "cell_type": "code",
   "execution_count": null,
   "metadata": {},
   "outputs": [],
   "source": [
    "'''\n",
    "python -m pip install xlwings\n",
    "或\n",
    "python -m pip install xlwings[all]\n",
    "python -m pip install psutil appscript\n",
    "python -m pip install --upgrade xlwings\n",
    "可參考官網說明 https://docs.xlwings.org/zh-tw/latest/installation.html\n",
    "'''\n",
    "import xlwings as xw\n",
    "\n",
    "app = xw.App(visible=False, add_book=False)\n",
    "wb = app.books.open(\"指考成績.xlsx\")\n",
    "wb.api.PrintOut(\n",
    "    Copies=1,\n",
    "    ActivePrinter=\"Microsoft Print to PDF\",\n",
    "    Collate=True\n",
    ")\n",
    "wb.close()\n",
    "app.quit()"
   ]
  },
  {
   "cell_type": "code",
   "execution_count": 6,
   "metadata": {},
   "outputs": [
    {
     "ename": "AttributeError",
     "evalue": "Unknown property, element or command: 'exportAsFixedFormat'",
     "output_type": "error",
     "traceback": [
      "\u001b[0;31m---------------------------------------------------------------------------\u001b[0m",
      "\u001b[0;31mKeyError\u001b[0m                                  Traceback (most recent call last)",
      "File \u001b[0;32m~/Documents/PythonVenv/envDash/lib/python3.10/site-packages/aeosa/appscript/reference.py:596\u001b[0m, in \u001b[0;36mReference.__getattr__\u001b[0;34m(self, name)\u001b[0m\n\u001b[1;32m    595\u001b[0m \u001b[38;5;28;01mtry\u001b[39;00m:\n\u001b[0;32m--> 596\u001b[0m \tselectortype, code \u001b[38;5;241m=\u001b[39m \u001b[38;5;28;43mself\u001b[39;49m\u001b[38;5;241;43m.\u001b[39;49m\u001b[43mAS_appdata\u001b[49m\u001b[38;5;241;43m.\u001b[39;49m\u001b[43mreferencebyname\u001b[49m\u001b[43m(\u001b[49m\u001b[43m)\u001b[49m\u001b[43m[\u001b[49m\u001b[43mname\u001b[49m\u001b[43m]\u001b[49m\n\u001b[1;32m    597\u001b[0m \u001b[38;5;28;01mexcept\u001b[39;00m \u001b[38;5;167;01mKeyError\u001b[39;00m \u001b[38;5;28;01mas\u001b[39;00m e:\n",
      "\u001b[0;31mKeyError\u001b[0m: 'exportAsFixedFormat'",
      "\nThe above exception was the direct cause of the following exception:\n",
      "\u001b[0;31mAttributeError\u001b[0m                            Traceback (most recent call last)",
      "Cell \u001b[0;32mIn[6], line 13\u001b[0m\n\u001b[1;32m     11\u001b[0m \u001b[38;5;66;03m# 导出为 PDF，这里使用第一个工作表作为示例\u001b[39;00m\n\u001b[1;32m     12\u001b[0m sheet \u001b[38;5;241m=\u001b[39m wb\u001b[38;5;241m.\u001b[39msheets[\u001b[38;5;241m0\u001b[39m]\n\u001b[0;32m---> 13\u001b[0m \u001b[43msheet\u001b[49m\u001b[38;5;241;43m.\u001b[39;49m\u001b[43mapi\u001b[49m\u001b[38;5;241;43m.\u001b[39;49m\u001b[43mexportAsFixedFormat\u001b[49m(\u001b[38;5;241m0\u001b[39m, pdf_file_path)\n\u001b[1;32m     15\u001b[0m \u001b[38;5;66;03m# 关闭工作簿和应用\u001b[39;00m\n\u001b[1;32m     16\u001b[0m wb\u001b[38;5;241m.\u001b[39mclose()\n",
      "File \u001b[0;32m~/Documents/PythonVenv/envDash/lib/python3.10/site-packages/aeosa/appscript/reference.py:598\u001b[0m, in \u001b[0;36mReference.__getattr__\u001b[0;34m(self, name)\u001b[0m\n\u001b[1;32m    596\u001b[0m \tselectortype, code \u001b[38;5;241m=\u001b[39m \u001b[38;5;28mself\u001b[39m\u001b[38;5;241m.\u001b[39mAS_appdata\u001b[38;5;241m.\u001b[39mreferencebyname()[name]\n\u001b[1;32m    597\u001b[0m \u001b[38;5;28;01mexcept\u001b[39;00m \u001b[38;5;167;01mKeyError\u001b[39;00m \u001b[38;5;28;01mas\u001b[39;00m e:\n\u001b[0;32m--> 598\u001b[0m \t\u001b[38;5;28;01mraise\u001b[39;00m \u001b[38;5;167;01mAttributeError\u001b[39;00m(\u001b[38;5;124m\"\u001b[39m\u001b[38;5;124mUnknown property, element or command: \u001b[39m\u001b[38;5;132;01m{!r}\u001b[39;00m\u001b[38;5;124m\"\u001b[39m\u001b[38;5;241m.\u001b[39mformat(name)) \u001b[38;5;28;01mfrom\u001b[39;00m \u001b[38;5;21;01me\u001b[39;00m\n\u001b[1;32m    599\u001b[0m \u001b[38;5;28;01mif\u001b[39;00m selectortype \u001b[38;5;241m==\u001b[39m kProperty:\n\u001b[1;32m    600\u001b[0m \t\u001b[38;5;28;01mreturn\u001b[39;00m Reference(\u001b[38;5;28mself\u001b[39m\u001b[38;5;241m.\u001b[39mAS_appdata, \u001b[38;5;28mself\u001b[39m\u001b[38;5;241m.\u001b[39mAS_aemreference\u001b[38;5;241m.\u001b[39mproperty(code))\n",
      "\u001b[0;31mAttributeError\u001b[0m: Unknown property, element or command: 'exportAsFixedFormat'"
     ]
    }
   ],
   "source": [
    "import xlwings as xw\n",
    "\n",
    "# 定义 Excel 文件和 PDF 保存位置\n",
    "excel_file_path = \"指考成績.xlsx\"\n",
    "pdf_file_path = \"指考成績.pdf\"  # 替换为你希望保存 PDF 的路径\n",
    "\n",
    "# 启动 Excel 应用并打开工作簿\n",
    "app = xw.App(visible=False)\n",
    "wb = app.books.open(excel_file_path)\n",
    "\n",
    "# 导出为 PDF，这里使用第一个工作表作为示例\n",
    "sheet = wb.sheets[0]\n",
    "sheet.api.exportAsFixedFormat(0, pdf_file_path)\n",
    "\n",
    "# 关闭工作簿和应用\n",
    "wb.close()\n",
    "app.quit()\n"
   ]
  }
 ],
 "metadata": {
  "kernelspec": {
   "display_name": "envDash",
   "language": "python",
   "name": "python3"
  },
  "language_info": {
   "codemirror_mode": {
    "name": "ipython",
    "version": 3
   },
   "file_extension": ".py",
   "mimetype": "text/x-python",
   "name": "python",
   "nbconvert_exporter": "python",
   "pygments_lexer": "ipython3",
   "version": "3.10.11"
  }
 },
 "nbformat": 4,
 "nbformat_minor": 2
}
