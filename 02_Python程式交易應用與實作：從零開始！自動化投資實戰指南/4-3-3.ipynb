{
 "cells": [
  {
   "cell_type": "code",
   "execution_count": 2,
   "metadata": {},
   "outputs": [
    {
     "ename": "ModuleNotFoundError",
     "evalue": "No module named 'haohaninfo.GOrder.GOCommand64'",
     "output_type": "error",
     "traceback": [
      "\u001b[0;31m---------------------------------------------------------------------------\u001b[0m",
      "\u001b[0;31mModuleNotFoundError\u001b[0m                       Traceback (most recent call last)",
      "Cell \u001b[0;32mIn[2], line 2\u001b[0m\n\u001b[1;32m      1\u001b[0m \u001b[38;5;66;03m# 載入必要模組\u001b[39;00m\n\u001b[0;32m----> 2\u001b[0m \u001b[38;5;28;01mfrom\u001b[39;00m \u001b[38;5;21;01mhaohaninfo\u001b[39;00m \u001b[38;5;28;01mimport\u001b[39;00m GOrder\n\u001b[1;32m      3\u001b[0m \u001b[38;5;28;01mfrom\u001b[39;00m \u001b[38;5;21;01mchart\u001b[39;00m \u001b[38;5;28;01mimport\u001b[39;00m ChartKBar\n\u001b[1;32m      4\u001b[0m \u001b[38;5;28;01mimport\u001b[39;00m \u001b[38;5;21;01msys\u001b[39;00m\n",
      "File \u001b[0;32m~/Documents/PythonVenv/envDash/lib/python3.10/site-packages/haohaninfo/__init__.py:1\u001b[0m\n\u001b[0;32m----> 1\u001b[0m \u001b[38;5;28;01mfrom\u001b[39;00m \u001b[38;5;21;01mhaohaninfo\u001b[39;00m \u001b[38;5;28;01mimport\u001b[39;00m GOrder\n\u001b[1;32m      2\u001b[0m \u001b[38;5;28;01mfrom\u001b[39;00m \u001b[38;5;21;01mhaohaninfo\u001b[39;00m \u001b[38;5;28;01mimport\u001b[39;00m MicroPlay\n\u001b[1;32m      3\u001b[0m \u001b[38;5;28;01mfrom\u001b[39;00m \u001b[38;5;21;01mhaohaninfo\u001b[39;00m \u001b[38;5;28;01mimport\u001b[39;00m MicroTest\n",
      "File \u001b[0;32m~/Documents/PythonVenv/envDash/lib/python3.10/site-packages/haohaninfo/GOrder/__init__.py:9\u001b[0m\n\u001b[1;32m      7\u001b[0m     \u001b[38;5;28;01mfrom\u001b[39;00m \u001b[38;5;21;01mhaohaninfo\u001b[39;00m\u001b[38;5;21;01m.\u001b[39;00m\u001b[38;5;21;01mGOrder\u001b[39;00m\u001b[38;5;21;01m.\u001b[39;00m\u001b[38;5;21;01mGOGetKBar\u001b[39;00m \u001b[38;5;28;01mimport\u001b[39;00m GetKBar \u001b[38;5;28;01mas\u001b[39;00m GetHistoryKBar\n\u001b[1;32m      8\u001b[0m \u001b[38;5;28;01melse\u001b[39;00m:\n\u001b[0;32m----> 9\u001b[0m     \u001b[38;5;28;01mfrom\u001b[39;00m \u001b[38;5;21;01mhaohaninfo\u001b[39;00m\u001b[38;5;21;01m.\u001b[39;00m\u001b[38;5;21;01mGOrder\u001b[39;00m\u001b[38;5;21;01m.\u001b[39;00m\u001b[38;5;21;01mGOCommand64\u001b[39;00m \u001b[38;5;28;01mimport\u001b[39;00m GOCommand\n\u001b[1;32m     10\u001b[0m     \u001b[38;5;28;01mfrom\u001b[39;00m \u001b[38;5;21;01mhaohaninfo\u001b[39;00m\u001b[38;5;21;01m.\u001b[39;00m\u001b[38;5;21;01mGOrder\u001b[39;00m\u001b[38;5;21;01m.\u001b[39;00m\u001b[38;5;21;01mGOQuote64\u001b[39;00m \u001b[38;5;28;01mimport\u001b[39;00m GOQuote\n\u001b[1;32m     11\u001b[0m     \u001b[38;5;28;01mfrom\u001b[39;00m \u001b[38;5;21;01mhaohaninfo\u001b[39;00m\u001b[38;5;21;01m.\u001b[39;00m\u001b[38;5;21;01mGOrder\u001b[39;00m\u001b[38;5;21;01m.\u001b[39;00m\u001b[38;5;21;01mGOGetKBar64\u001b[39;00m \u001b[38;5;28;01mimport\u001b[39;00m GetKBar \u001b[38;5;28;01mas\u001b[39;00m GetHistoryKBar\n",
      "\u001b[0;31mModuleNotFoundError\u001b[0m: No module named 'haohaninfo.GOrder.GOCommand64'"
     ]
    }
   ],
   "source": [
    "# 載入必要模組\n",
    "from haohaninfo import GOrder\n",
    "from chart import ChartKBar\n",
    "import sys\n",
    "\n",
    "# 取得回測參數\n",
    "Excgange=sys.argv[1]\n",
    "Product=sys.argv[2]\n",
    "StartDate=sys.argv[3]\n",
    "EndDate=sys.argv[4]\n",
    "Klen=sys.argv[5]\n",
    "\n",
    "# 登入帳號密碼(讀者須修正該帳號密碼為自己的，否則無法執行策略)\n",
    "GOrder.Login('TestAccount','TestPasswd')\n",
    "\n",
    "# K線物件\n",
    "KBar=GOrder.GetTAKBar(StartDate,EndDate,Product,Excgange,'0',Klen)\n",
    "\n",
    "# 繪製K線圖\n",
    "ChartKBar(KBar)\n",
    "\n"
   ]
  }
 ],
 "metadata": {
  "kernelspec": {
   "display_name": "envDash",
   "language": "python",
   "name": "python3"
  },
  "language_info": {
   "codemirror_mode": {
    "name": "ipython",
    "version": 3
   },
   "file_extension": ".py",
   "mimetype": "text/x-python",
   "name": "python",
   "nbconvert_exporter": "python",
   "pygments_lexer": "ipython3",
   "version": "3.10.11"
  }
 },
 "nbformat": 4,
 "nbformat_minor": 2
}
