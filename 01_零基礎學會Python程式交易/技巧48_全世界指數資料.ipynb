{
 "cells": [
  {
   "cell_type": "code",
   "execution_count": 5,
   "metadata": {},
   "outputs": [
    {
     "name": "stdout",
     "output_type": "stream",
     "text": [
      "       Symbol          Name  Last Price  Change % Change  Volume  \\\n",
      "0       ^GSPC       S&P 500     5204.34   57.13   +1.11%     NaN   \n",
      "1        ^DJI        Dow 30    38904.04  307.06   +0.80%     NaN   \n",
      "2       ^IXIC        Nasdaq    16248.52  199.44   +1.24%     NaN   \n",
      "3        ^NYA           NaN         NaN     NaN      NaN     NaN   \n",
      "4        ^XAX           NaN         NaN     NaN      NaN     NaN   \n",
      "5    ^BUK100P           NaN         NaN     NaN      NaN     NaN   \n",
      "6        ^RUT  Russell 2000     2063.47    9.64   +0.47%     NaN   \n",
      "7        ^VIX           NaN         NaN     NaN      NaN     NaN   \n",
      "8       ^FTSE      FTSE 100     7911.16  -64.73   -0.81%     NaN   \n",
      "9      ^GDAXI           NaN         NaN     NaN      NaN     NaN   \n",
      "10      ^FCHI           NaN         NaN     NaN      NaN     NaN   \n",
      "11  ^STOXX50E           NaN         NaN     NaN      NaN     NaN   \n",
      "12      ^N100           NaN         NaN     NaN      NaN     NaN   \n",
      "13       ^BFX           NaN         NaN     NaN      NaN     NaN   \n",
      "14   IMOEX.ME           NaN         NaN     NaN      NaN     NaN   \n",
      "15      ^N225    Nikkei 225    38992.08 -781.06   -1.96%     NaN   \n",
      "16       ^HSI           NaN         NaN     NaN      NaN     NaN   \n",
      "17  000001.SS           NaN         NaN     NaN      NaN     NaN   \n",
      "18  399001.SZ           NaN         NaN     NaN      NaN     NaN   \n",
      "19       ^STI           NaN         NaN     NaN      NaN     NaN   \n",
      "20      ^AXJO           NaN         NaN     NaN      NaN     NaN   \n",
      "21      ^AORD           NaN         NaN     NaN      NaN     NaN   \n",
      "22     ^BSESN           NaN         NaN     NaN      NaN     NaN   \n",
      "23      ^JKSE           NaN         NaN     NaN      NaN     NaN   \n",
      "24      ^KLSE           NaN         NaN     NaN      NaN     NaN   \n",
      "25      ^NZ50           NaN         NaN     NaN      NaN     NaN   \n",
      "26      ^KS11           NaN         NaN     NaN      NaN     NaN   \n",
      "27      ^TWII           NaN         NaN     NaN      NaN     NaN   \n",
      "28    ^GSPTSE           NaN         NaN     NaN      NaN     NaN   \n",
      "29      ^BVSP           NaN         NaN     NaN      NaN     NaN   \n",
      "30       ^MXX           NaN         NaN     NaN      NaN     NaN   \n",
      "31      ^IPSA           NaN         NaN     NaN      NaN     NaN   \n",
      "32      ^MERV           NaN         NaN     NaN      NaN     NaN   \n",
      "33  ^TA125.TA           NaN         NaN     NaN      NaN     NaN   \n",
      "34    ^CASE30           NaN         NaN     NaN      NaN     NaN   \n",
      "35   ^JN0U.JO           NaN         NaN     NaN      NaN     NaN   \n",
      "\n",
      "    Intraday High/Low  52 Week Range  Day Chart  \n",
      "0                 NaN            NaN        NaN  \n",
      "1                 NaN            NaN        NaN  \n",
      "2                 NaN            NaN        NaN  \n",
      "3                 NaN            NaN        NaN  \n",
      "4                 NaN            NaN        NaN  \n",
      "5                 NaN            NaN        NaN  \n",
      "6                 NaN            NaN        NaN  \n",
      "7                 NaN            NaN        NaN  \n",
      "8                 NaN            NaN        NaN  \n",
      "9                 NaN            NaN        NaN  \n",
      "10                NaN            NaN        NaN  \n",
      "11                NaN            NaN        NaN  \n",
      "12                NaN            NaN        NaN  \n",
      "13                NaN            NaN        NaN  \n",
      "14                NaN            NaN        NaN  \n",
      "15                NaN            NaN        NaN  \n",
      "16                NaN            NaN        NaN  \n",
      "17                NaN            NaN        NaN  \n",
      "18                NaN            NaN        NaN  \n",
      "19                NaN            NaN        NaN  \n",
      "20                NaN            NaN        NaN  \n",
      "21                NaN            NaN        NaN  \n",
      "22                NaN            NaN        NaN  \n",
      "23                NaN            NaN        NaN  \n",
      "24                NaN            NaN        NaN  \n",
      "25                NaN            NaN        NaN  \n",
      "26                NaN            NaN        NaN  \n",
      "27                NaN            NaN        NaN  \n",
      "28                NaN            NaN        NaN  \n",
      "29                NaN            NaN        NaN  \n",
      "30                NaN            NaN        NaN  \n",
      "31                NaN            NaN        NaN  \n",
      "32                NaN            NaN        NaN  \n",
      "33                NaN            NaN        NaN  \n",
      "34                NaN            NaN        NaN  \n",
      "35                NaN            NaN        NaN  \n"
     ]
    },
    {
     "name": "stderr",
     "output_type": "stream",
     "text": [
      "/var/folders/vm/_zft15050r7cfh47y6v5z4k40000gn/T/ipykernel_30968/1444123982.py:15: FutureWarning: Passing literal html to 'read_html' is deprecated and will be removed in a future version. To read from a literal string, wrap it in a 'StringIO' object.\n",
      "  web_data = pd.read_html(html.text)[0]\n"
     ]
    },
    {
     "data": {
      "text/plain": [
       "'\\n# 取得第一個指數商品資料\\nprod = web_data[\"Symbol\"][0]\\nprint(prod)\\n# 再透過 getDataYF() 取得指數資料\\ndata = getDataYF(prod)\\n\\n# 繪製指數走勢圖\\ndata[\"close\"].plot()\\n'"
      ]
     },
     "execution_count": 5,
     "metadata": {},
     "output_type": "execute_result"
    }
   ],
   "source": [
    "\"\"\"\n",
    "取得全世界指數商品 world Indices\n",
    "\"\"\"\n",
    "\n",
    "# 載入函數工具檔\n",
    "from Data import getDataYF\n",
    "import requests\n",
    "import pandas as pd\n",
    "\n",
    "# 全世界指數商品標的\n",
    "url = \"https://finance.yahoo.com/world-indices\"\n",
    "# 透過 requests 取得網頁原始碼\n",
    "html = requests.get(url)\n",
    "# 透過 read_html() 解析網頁原始碼\n",
    "web_data = pd.read_html(html.text)[0]\n",
    "print(web_data)\n",
    "\n",
    "# 取得第一個指數商品資料\n",
    "prod = web_data[\"Symbol\"][0]\n",
    "print(prod)\n",
    "# 再透過 getDataYF() 取得指數資料\n",
    "data = getDataYF(prod)\n",
    "\n",
    "# 繪製指數走勢圖\n",
    "data[\"close\"].plot()\n",
    "\n",
    "'''END'''"
   ]
  }
 ],
 "metadata": {
  "kernelspec": {
   "display_name": "envDash",
   "language": "python",
   "name": "python3"
  },
  "language_info": {
   "codemirror_mode": {
    "name": "ipython",
    "version": 3
   },
   "file_extension": ".py",
   "mimetype": "text/x-python",
   "name": "python",
   "nbconvert_exporter": "python",
   "pygments_lexer": "ipython3",
   "version": "3.10.11"
  }
 },
 "nbformat": 4,
 "nbformat_minor": 2
}
