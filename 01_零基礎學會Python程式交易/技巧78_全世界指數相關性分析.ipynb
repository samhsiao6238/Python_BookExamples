{
 "cells": [
  {
   "cell_type": "code",
   "execution_count": null,
   "metadata": {},
   "outputs": [],
   "source": [
    "\"\"\"\n",
    "全世界指數相關係數\n",
    "1. 取得全世界指數\n",
    "2. 計算指數報酬、風險\n",
    "3. 計算相關係數、繪製熱力圖\n",
    "\"\"\"\n",
    "\n",
    "# 載入函數工具檔\n",
    "from Data import getDataYF, getMultipleReturn\n",
    "import requests\n",
    "import pandas as pd\n",
    "import matplotlib.pyplot as plt\n",
    "import seaborn as sns\n",
    "\n",
    "# 繪圖套件載入中文字體\n",
    "plt.rcParams[\"font.sans-serif\"] = [\"SimHei\"]\n",
    "plt.rcParams[\"axes.unicode_minus\"] = False\n",
    "\n",
    "# 取出全世界指數\n",
    "url = \"https://finance.yahoo.com/world-indices\"\n",
    "response = requests.get(url)\n",
    "yahoo_webpage = pd.read_html(response.text)\n",
    "world_index_page = yahoo_webpage[0]\n",
    "world_index_symbols = world_index_page[\"Symbol\"].to_list()\n",
    "\n",
    "# 抓到所有指數的歷史報酬率\n",
    "ret_dataframe = getMultipleReturn(getDataYF, world_index_symbols, \"adj close\")\n",
    "ret_dataframe.columns = world_index_page[\"Name\"].to_list()\n",
    "\n",
    "# 計算相關性\n",
    "corr = round(ret_dataframe.iloc[:, :10].corr(), 2)\n",
    "\n",
    "# 並繪製熱力圖\n",
    "plt.figure(figsize=(18, 14))\n",
    "sns.heatmap(corr, cmap=\"Blues\", annot=True)\n",
    "plt.show()\n"
   ]
  }
 ],
 "metadata": {
  "kernelspec": {
   "display_name": "envDash",
   "language": "python",
   "name": "python3"
  },
  "language_info": {
   "codemirror_mode": {
    "name": "ipython",
    "version": 3
   },
   "file_extension": ".py",
   "mimetype": "text/x-python",
   "name": "python",
   "nbconvert_exporter": "python",
   "pygments_lexer": "ipython3",
   "version": "3.10.11"
  }
 },
 "nbformat": 4,
 "nbformat_minor": 2
}
